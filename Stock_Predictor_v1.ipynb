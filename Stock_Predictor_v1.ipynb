{
  "nbformat": 4,
  "nbformat_minor": 0,
  "metadata": {
    "colab": {
      "name": "Stock_Predictor_v1.ipynb",
      "provenance": [],
      "collapsed_sections": [],
      "authorship_tag": "ABX9TyM0fG+j/55pbYjDoqsaqTZ7",
      "include_colab_link": true
    },
    "kernelspec": {
      "name": "python3",
      "display_name": "Python 3"
    },
    "accelerator": "GPU"
  },
  "cells": [
    {
      "cell_type": "markdown",
      "metadata": {
        "id": "view-in-github",
        "colab_type": "text"
      },
      "source": [
        "<a href=\"https://colab.research.google.com/github/Chubbyman2/Stock_Predictor/blob/master/Stock_Predictor_v1.ipynb\" target=\"_parent\"><img src=\"https://colab.research.google.com/assets/colab-badge.svg\" alt=\"Open In Colab\"/></a>"
      ]
    },
    {
      "cell_type": "code",
      "metadata": {
        "id": "f2M_6yvMkdFu",
        "colab_type": "code",
        "colab": {}
      },
      "source": [
        "# Goal: Use an LSTM neural network to predict the closing stock price of a corporation\n",
        "# Uses closing prices of past 60 days to predict next day's"
      ],
      "execution_count": 55,
      "outputs": []
    },
    {
      "cell_type": "code",
      "metadata": {
        "id": "tI4Jag0kl8mf",
        "colab_type": "code",
        "colab": {}
      },
      "source": [
        "import math\n",
        "import datetime\n",
        "import pytz\n",
        "import pandas_datareader as web\n",
        "import numpy as np\n",
        "import pandas as pd\n",
        "from sklearn.preprocessing import MinMaxScaler\n",
        "from keras.models import Sequential\n",
        "from keras.layers import Dense, LSTM\n",
        "import matplotlib.pyplot as plt\n",
        "plt.style.use(\"fivethirtyeight\")"
      ],
      "execution_count": 56,
      "outputs": []
    },
    {
      "cell_type": "code",
      "metadata": {
        "id": "7TCHiPm7l_EO",
        "colab_type": "code",
        "colab": {}
      },
      "source": [
        "# Convert timezone to EST\n",
        "est = pytz.timezone(\"US/Eastern\")\n",
        "timezone = timezone.astimezone(est)\n",
        "today = timezone.strftime(\"%Y-%m-%d\")\n",
        "\n",
        "# Stock quote\n",
        "stock_name = \"IBM\"\n",
        "df = web.DataReader(stock_name, data_source=\"yahoo\", start=\"2015-01-01\", end=today)"
      ],
      "execution_count": 57,
      "outputs": []
    },
    {
      "cell_type": "code",
      "metadata": {
        "id": "xjv2BaMTnTJK",
        "colab_type": "code",
        "colab": {}
      },
      "source": [
        "# New datagrame with only \"Close\" column\n",
        "data = df.filter([\"Close\"])\n",
        "dataset = data.values # convert to numpy array\n",
        "training_data_len = math.ceil(len(dataset)*.8) # Training 80%, Validation 20%"
      ],
      "execution_count": 58,
      "outputs": []
    },
    {
      "cell_type": "code",
      "metadata": {
        "id": "sGzJffggnhGo",
        "colab_type": "code",
        "colab": {}
      },
      "source": [
        "# Scale data between 0 and 1, inclusive\n",
        "scaler = MinMaxScaler(feature_range=(0,1))\n",
        "scaled_data = scaler.fit_transform(dataset)"
      ],
      "execution_count": 59,
      "outputs": []
    },
    {
      "cell_type": "code",
      "metadata": {
        "id": "viAhuCdCn0qL",
        "colab_type": "code",
        "colab": {}
      },
      "source": [
        "# Create training dataset, scale\n",
        "train_data = scaled_data[0:training_data_len, :]\n",
        "\n",
        "x_train = []\n",
        "y_train = []\n",
        "\n",
        "for i in range(60, len(train_data)):\n",
        "  x_train.append(train_data[i-60:i, 0])\n",
        "  y_train.append(train_data[i, 0])"
      ],
      "execution_count": 60,
      "outputs": []
    },
    {
      "cell_type": "code",
      "metadata": {
        "id": "bmQi1k_ToMQ_",
        "colab_type": "code",
        "colab": {
          "base_uri": "https://localhost:8080/",
          "height": 34
        },
        "outputId": "e7fbbcb5-0c26-4d54-9dff-9ead037db2ab"
      },
      "source": [
        "# Convert to numpy arrays\n",
        "x_train, y_train = np.array(x_train), np.array(y_train)\n",
        "x_train.shape"
      ],
      "execution_count": 61,
      "outputs": [
        {
          "output_type": "execute_result",
          "data": {
            "text/plain": [
              "(1089, 60)"
            ]
          },
          "metadata": {
            "tags": []
          },
          "execution_count": 61
        }
      ]
    },
    {
      "cell_type": "code",
      "metadata": {
        "id": "pdpw_dRdoUKk",
        "colab_type": "code",
        "colab": {}
      },
      "source": [
        "# Reshape data to 3 dimensions - (num_samples, num_time_steps, num_features)\n",
        "x_train = np.reshape(x_train, (x_train.shape[0], x_train.shape[1], 1))"
      ],
      "execution_count": 62,
      "outputs": []
    },
    {
      "cell_type": "code",
      "metadata": {
        "id": "HL-i_sX3o188",
        "colab_type": "code",
        "colab": {}
      },
      "source": [
        "# LSTM model\n",
        "model = Sequential([\n",
        "    LSTM(50, return_sequences=True, input_shape=(x_train.shape[1], 1)),\n",
        "    LSTM(50, return_sequences=False),\n",
        "    Dense(25),\n",
        "    Dense(1)\n",
        "])"
      ],
      "execution_count": 63,
      "outputs": []
    },
    {
      "cell_type": "code",
      "metadata": {
        "id": "vsxXaa5tpQqL",
        "colab_type": "code",
        "colab": {
          "base_uri": "https://localhost:8080/",
          "height": 51
        },
        "outputId": "a695a602-f317-43ab-e4cf-88c7e452b28c"
      },
      "source": [
        "# Compile\n",
        "model.compile(optimizer=\"adam\", loss=\"mean_squared_error\")\n",
        "\n",
        "# Train\n",
        "model.fit(x_train, y_train, batch_size=1, epochs=1)"
      ],
      "execution_count": 64,
      "outputs": [
        {
          "output_type": "stream",
          "text": [
            "1089/1089 [==============================] - 7s 7ms/step - loss: 0.0046\n"
          ],
          "name": "stdout"
        },
        {
          "output_type": "execute_result",
          "data": {
            "text/plain": [
              "<tensorflow.python.keras.callbacks.History at 0x7efc20132cf8>"
            ]
          },
          "metadata": {
            "tags": []
          },
          "execution_count": 64
        }
      ]
    },
    {
      "cell_type": "code",
      "metadata": {
        "id": "8bXzHXECpdxQ",
        "colab_type": "code",
        "colab": {}
      },
      "source": [
        "# Validation dataset\n",
        "val_data = scaled_data[training_data_len - 60:, :]\n",
        "\n",
        "x_val = []\n",
        "y_val = dataset[training_data_len:, :] # The final 20%\n",
        "\n",
        "for i in range(60, len(val_data)):\n",
        "  x_val.append(val_data[i-60:i, 0])"
      ],
      "execution_count": 65,
      "outputs": []
    },
    {
      "cell_type": "code",
      "metadata": {
        "id": "7er7Jwm-qAgd",
        "colab_type": "code",
        "colab": {}
      },
      "source": [
        "# Convert to numpy array, reshape\n",
        "x_val = np.array(x_val)\n",
        "x_val = np.reshape(x_val, (x_val.shape[0], x_val.shape[1], 1))"
      ],
      "execution_count": 66,
      "outputs": []
    },
    {
      "cell_type": "code",
      "metadata": {
        "id": "Y8mHAergqLEC",
        "colab_type": "code",
        "colab": {}
      },
      "source": [
        "# Get predicted values, unscale\n",
        "predictions = model.predict(x_val)\n",
        "predictions = scaler.inverse_transform(predictions)"
      ],
      "execution_count": 67,
      "outputs": []
    },
    {
      "cell_type": "code",
      "metadata": {
        "id": "mHeXBf4A4d8V",
        "colab_type": "code",
        "colab": {
          "base_uri": "https://localhost:8080/",
          "height": 34
        },
        "outputId": "dd05098c-89c4-4e17-ca6c-fc5e0743310f"
      },
      "source": [
        "# Measure loss using root mean squared error \n",
        "# Compares predictions to y_val\n",
        "rmse = np.sqrt(np.mean(((predictions - y_val)**2)))\n",
        "rmse"
      ],
      "execution_count": 68,
      "outputs": [
        {
          "output_type": "execute_result",
          "data": {
            "text/plain": [
              "4.517554129414407"
            ]
          },
          "metadata": {
            "tags": []
          },
          "execution_count": 68
        }
      ]
    },
    {
      "cell_type": "code",
      "metadata": {
        "id": "aNRoDaeD40Wv",
        "colab_type": "code",
        "colab": {
          "base_uri": "https://localhost:8080/",
          "height": 660
        },
        "outputId": "90d92ffc-f068-4b98-f5bc-a8519e1df33c"
      },
      "source": [
        "# Plot data\n",
        "train = data[:training_data_len]\n",
        "valid = data[training_data_len:]\n",
        "valid[\"Predictions\"] = predictions\n",
        "\n",
        "plt.figure(figsize=(16,8))\n",
        "plt.title(\"Model\")\n",
        "plt.xlabel(\"Date\", fontsize=18)\n",
        "plt.ylabel(\"Close Price USD ($)\", fontsize=18)\n",
        "plt.plot(train[\"Close\"])\n",
        "plt.plot(valid[[\"Close\", \"Predictions\"]])\n",
        "plt.legend([\"Train\", \"Val\", \"Predictions\"], loc=\"lower right\")\n",
        "plt.show()"
      ],
      "execution_count": 69,
      "outputs": [
        {
          "output_type": "stream",
          "text": [
            "/usr/local/lib/python3.6/dist-packages/ipykernel_launcher.py:4: SettingWithCopyWarning: \n",
            "A value is trying to be set on a copy of a slice from a DataFrame.\n",
            "Try using .loc[row_indexer,col_indexer] = value instead\n",
            "\n",
            "See the caveats in the documentation: https://pandas.pydata.org/pandas-docs/stable/user_guide/indexing.html#returning-a-view-versus-a-copy\n",
            "  after removing the cwd from sys.path.\n"
          ],
          "name": "stderr"
        },
        {
          "output_type": "display_data",
          "data": {
            "image/png": "[encoded data removed]",
            "text/plain": [
              "<Figure size 1152x576 with 1 Axes>"
            ]
          },
          "metadata": {
            "tags": []
          }
        }
      ]
    },
    {
      "cell_type": "code",
      "metadata": {
        "id": "M8b1yL9I445W",
        "colab_type": "code",
        "colab": {
          "base_uri": "https://localhost:8080/",
          "height": 450
        },
        "outputId": "6ea8f5b6-d48a-47bd-f707-df5fcef79c03"
      },
      "source": [
        "# Display predictions vs validation set\n",
        "valid"
      ],
      "execution_count": 70,
      "outputs": [
        {
          "output_type": "execute_result",
          "data": {
            "text/html": [
              "<div>\n",
              "<style scoped>\n",
              "    .dataframe tbody tr th:only-of-type {\n",
              "        vertical-align: middle;\n",
              "    }\n",
              "\n",
              "    .dataframe tbody tr th {\n",
              "        vertical-align: top;\n",
              "    }\n",
              "\n",
              "    .dataframe thead th {\n",
              "        text-align: right;\n",
              "    }\n",
              "</style>\n",
              "<table border=\"1\" class=\"dataframe\">\n",
              "  <thead>\n",
              "    <tr style=\"text-align: right;\">\n",
              "      <th></th>\n",
              "      <th>Close</th>\n",
              "      <th>Predictions</th>\n",
              "    </tr>\n",
              "    <tr>\n",
              "      <th>Date</th>\n",
              "      <th></th>\n",
              "      <th></th>\n",
              "    </tr>\n",
              "  </thead>\n",
              "  <tbody>\n",
              "    <tr>\n",
              "      <th>2019-07-29</th>\n",
              "      <td>150.880005</td>\n",
              "      <td>148.111603</td>\n",
              "    </tr>\n",
              "    <tr>\n",
              "      <th>2019-07-30</th>\n",
              "      <td>149.770004</td>\n",
              "      <td>148.598099</td>\n",
              "    </tr>\n",
              "    <tr>\n",
              "      <th>2019-07-31</th>\n",
              "      <td>148.240005</td>\n",
              "      <td>148.778000</td>\n",
              "    </tr>\n",
              "    <tr>\n",
              "      <th>2019-08-01</th>\n",
              "      <td>150.320007</td>\n",
              "      <td>148.581879</td>\n",
              "    </tr>\n",
              "    <tr>\n",
              "      <th>2019-08-02</th>\n",
              "      <td>147.250000</td>\n",
              "      <td>148.462067</td>\n",
              "    </tr>\n",
              "    <tr>\n",
              "      <th>...</th>\n",
              "      <td>...</td>\n",
              "      <td>...</td>\n",
              "    </tr>\n",
              "    <tr>\n",
              "      <th>2020-09-09</th>\n",
              "      <td>122.260002</td>\n",
              "      <td>123.548553</td>\n",
              "    </tr>\n",
              "    <tr>\n",
              "      <th>2020-09-10</th>\n",
              "      <td>120.559998</td>\n",
              "      <td>123.108322</td>\n",
              "    </tr>\n",
              "    <tr>\n",
              "      <th>2020-09-11</th>\n",
              "      <td>121.459999</td>\n",
              "      <td>122.536316</td>\n",
              "    </tr>\n",
              "    <tr>\n",
              "      <th>2020-09-14</th>\n",
              "      <td>122.089996</td>\n",
              "      <td>122.054619</td>\n",
              "    </tr>\n",
              "    <tr>\n",
              "      <th>2020-09-15</th>\n",
              "      <td>122.440002</td>\n",
              "      <td>121.741341</td>\n",
              "    </tr>\n",
              "  </tbody>\n",
              "</table>\n",
              "<p>287 rows × 2 columns</p>\n",
              "</div>"
            ],
            "text/plain": [
              "                 Close  Predictions\n",
              "Date                               \n",
              "2019-07-29  150.880005   148.111603\n",
              "2019-07-30  149.770004   148.598099\n",
              "2019-07-31  148.240005   148.778000\n",
              "2019-08-01  150.320007   148.581879\n",
              "2019-08-02  147.250000   148.462067\n",
              "...                ...          ...\n",
              "2020-09-09  122.260002   123.548553\n",
              "2020-09-10  120.559998   123.108322\n",
              "2020-09-11  121.459999   122.536316\n",
              "2020-09-14  122.089996   122.054619\n",
              "2020-09-15  122.440002   121.741341\n",
              "\n",
              "[287 rows x 2 columns]"
            ]
          },
          "metadata": {
            "tags": []
          },
          "execution_count": 70
        }
      ]
    },
    {
      "cell_type": "code",
      "metadata": {
        "id": "3wxPgeac4_zY",
        "colab_type": "code",
        "colab": {
          "base_uri": "https://localhost:8080/",
          "height": 34
        },
        "outputId": "8f37b35a-612a-4506-fc86-f2272e7caa12"
      },
      "source": [
        "def predict_price(stock_quote):\n",
        "  # Create new dataframe\n",
        "  new_df = stock_quote.filter([\"Close\"])\n",
        "\n",
        "  # Get last 60 days' closing prices\n",
        "  # Convert dataframe to array, scale\n",
        "  past_60 = new_df[-60:].values\n",
        "  past_60_scaled = scaler.transform(past_60)\n",
        "\n",
        "  # Create new array for actual testing\n",
        "  X_test = []\n",
        "  X_test.append(past_60_scaled)\n",
        "\n",
        "  # Convert to array, reshape\n",
        "  X_test = np.array(X_test)\n",
        "  X_test = np.reshape(X_test, (X_test.shape[0], X_test.shape[1], 1))\n",
        "\n",
        "  # Get prediction, unscale\n",
        "  pred_price = model.predict(X_test)\n",
        "  pred_price = scaler.inverse_transform(pred_price)\n",
        "  return pred_price\n",
        "\n",
        "print(predict_price(df))"
      ],
      "execution_count": 71,
      "outputs": [
        {
          "output_type": "stream",
          "text": [
            "[[121.59296]]\n"
          ],
          "name": "stdout"
        }
      ]
    },
    {
      "cell_type": "code",
      "metadata": {
        "id": "iMqzqhYl7jsL",
        "colab_type": "code",
        "colab": {
          "base_uri": "https://localhost:8080/",
          "height": 142
        },
        "outputId": "48b2dff7-4d23-4c4b-a01d-17afda327a09"
      },
      "source": [
        "# Compare to actual price\n",
        "quote = web.DataReader(stock_name, data_source=\"yahoo\", start=today, end=today)\n",
        "quote"
      ],
      "execution_count": 75,
      "outputs": [
        {
          "output_type": "execute_result",
          "data": {
            "text/html": [
              "<div>\n",
              "<style scoped>\n",
              "    .dataframe tbody tr th:only-of-type {\n",
              "        vertical-align: middle;\n",
              "    }\n",
              "\n",
              "    .dataframe tbody tr th {\n",
              "        vertical-align: top;\n",
              "    }\n",
              "\n",
              "    .dataframe thead th {\n",
              "        text-align: right;\n",
              "    }\n",
              "</style>\n",
              "<table border=\"1\" class=\"dataframe\">\n",
              "  <thead>\n",
              "    <tr style=\"text-align: right;\">\n",
              "      <th></th>\n",
              "      <th>High</th>\n",
              "      <th>Low</th>\n",
              "      <th>Open</th>\n",
              "      <th>Close</th>\n",
              "      <th>Volume</th>\n",
              "      <th>Adj Close</th>\n",
              "    </tr>\n",
              "    <tr>\n",
              "      <th>Date</th>\n",
              "      <th></th>\n",
              "      <th></th>\n",
              "      <th></th>\n",
              "      <th></th>\n",
              "      <th></th>\n",
              "      <th></th>\n",
              "    </tr>\n",
              "  </thead>\n",
              "  <tbody>\n",
              "    <tr>\n",
              "      <th>2020-09-15</th>\n",
              "      <td>123.400002</td>\n",
              "      <td>122.239998</td>\n",
              "      <td>122.82</td>\n",
              "      <td>122.440002</td>\n",
              "      <td>2913192</td>\n",
              "      <td>122.440002</td>\n",
              "    </tr>\n",
              "    <tr>\n",
              "      <th>2020-09-15</th>\n",
              "      <td>123.400002</td>\n",
              "      <td>122.239998</td>\n",
              "      <td>122.82</td>\n",
              "      <td>122.440002</td>\n",
              "      <td>2914000</td>\n",
              "      <td>122.440002</td>\n",
              "    </tr>\n",
              "  </tbody>\n",
              "</table>\n",
              "</div>"
            ],
            "text/plain": [
              "                  High         Low    Open       Close   Volume   Adj Close\n",
              "Date                                                                       \n",
              "2020-09-15  123.400002  122.239998  122.82  122.440002  2913192  122.440002\n",
              "2020-09-15  123.400002  122.239998  122.82  122.440002  2914000  122.440002"
            ]
          },
          "metadata": {
            "tags": []
          },
          "execution_count": 75
        }
      ]
    }
  ]
}